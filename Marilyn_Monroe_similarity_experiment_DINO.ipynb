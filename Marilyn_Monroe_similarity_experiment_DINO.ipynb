{
  "cells": [
    {
      "attachments": {},
      "cell_type": "markdown",
      "metadata": {
        "colab_type": "text",
        "id": "view-in-github"
      },
      "source": [
        "<a href=\"https://colab.research.google.com/github/ericbzhou/genai_creativity/blob/main/Marilyn_Monroe_similarity_experiment_DINO.ipynb\" target=\"_parent\"><img src=\"https://colab.research.google.com/assets/colab-badge.svg\" alt=\"Open In Colab\"/></a>"
      ]
    },
    {
      "cell_type": "code",
      "execution_count": 14,
      "metadata": {
        "colab": {
          "base_uri": "https://localhost:8080/"
        },
        "id": "tnWKGtONYv_B",
        "outputId": "59a4b66e-26d0-4916-f092-bb9d72ffefbe"
      },
      "outputs": [
        {
          "name": "stdout",
          "output_type": "stream",
          "text": [
            "Drive already mounted at /content/drive; to attempt to forcibly remount, call drive.mount(\"/content/drive\", force_remount=True).\n"
          ]
        }
      ],
      "source": [
        "# connect to google drive\n",
        "from google.colab import drive\n",
        "drive.mount('/content/drive')"
      ]
    },
    {
      "cell_type": "code",
      "execution_count": 3,
      "metadata": {
        "id": "pF_9YBUKZ3SZ"
      },
      "outputs": [],
      "source": [
        "import numpy as np\n",
        "import os\n",
        "\n",
        "# Set the path to the root directory containing the .npy files\n",
        "root_path = \"embeddings\"\n",
        "\n",
        "\n",
        "# Define a function to recursively load all .npy or .png files in a directory into a list\n",
        "def load_data_in_directory(dir_path):\n",
        "    data = []\n",
        "    i = 0\n",
        "    for file_name in os.listdir(dir_path):\n",
        "        file_path = os.path.join(dir_path, file_name)\n",
        "        if os.path.isdir(file_path):\n",
        "            # If the file is a directory, recursively load the files inside it\n",
        "            data += load_data_in_directory(file_path)\n",
        "        else:\n",
        "            # If the file is a .npy or .png file, load the data and add it to the list\n",
        "            try:\n",
        "                data.append(np.load(file_path))\n",
        "                print(f\"for the {i}th embedding file, the file path is: {file_path}\")\n",
        "            except:\n",
        "                print(f\"Error loading file: {file_path}\")\n",
        "            i += 1\n",
        "    return data"
      ]
    },
    {
      "cell_type": "code",
      "execution_count": 4,
      "metadata": {
        "colab": {
          "base_uri": "https://localhost:8080/"
        },
        "id": "qFPHqIOfaFtK",
        "outputId": "10dfa7c5-a764-4aa1-fb65-3f95004ff10a"
      },
      "outputs": [
        {
          "name": "stdout",
          "output_type": "stream",
          "text": [
            "for the 0th embedding file, the file path is: embeddings\\1.jpg.npy\n",
            "for the 1th embedding file, the file path is: embeddings\\10.jpg.npy\n",
            "for the 2th embedding file, the file path is: embeddings\\2.jpg.npy\n",
            "for the 3th embedding file, the file path is: embeddings\\3.jpg.npy\n",
            "for the 4th embedding file, the file path is: embeddings\\4.jpg.npy\n",
            "for the 5th embedding file, the file path is: embeddings\\5.jpg.npy\n",
            "for the 6th embedding file, the file path is: embeddings\\6.jpg.npy\n",
            "for the 7th embedding file, the file path is: embeddings\\6B3DDE40-36AF-9188-C9B7-B1C5412074A6.png.npy\n",
            "for the 8th embedding file, the file path is: embeddings\\7.jpg.npy\n",
            "for the 9th embedding file, the file path is: embeddings\\7827B31E-6816-5106-00DB-0D2BF344981C.png.npy\n",
            "for the 10th embedding file, the file path is: embeddings\\7968FD2F-8910-05F3-9AEC-A38A1B607EA8.png.npy\n",
            "for the 11th embedding file, the file path is: embeddings\\8.jpg.npy\n",
            "for the 12th embedding file, the file path is: embeddings\\9.jpg.npy\n"
          ]
        }
      ],
      "source": [
        "# Call the function on the root directory to load all .npy files in the directory tree\n",
        "data = load_data_in_directory(root_path)"
      ]
    },
    {
      "cell_type": "code",
      "execution_count": 5,
      "metadata": {
        "colab": {
          "base_uri": "https://localhost:8080/"
        },
        "id": "VPieHsqEt99f",
        "outputId": "eb1eb789-2883-4abe-8625-514b10e24fc9"
      },
      "outputs": [
        {
          "name": "stdout",
          "output_type": "stream",
          "text": [
            "13\n",
            "[array([ 0.00538854,  0.00309871, -0.01319956, ...,  0.04748146,\n",
            "        0.00460696,  0.01087278], dtype=float32), array([-0.00171644, -0.00014694, -0.02246505, ...,  0.06524757,\n",
            "       -0.00109134,  0.01003287], dtype=float32), array([ 0.01097447, -0.00391576, -0.01894609, ...,  0.06640995,\n",
            "       -0.0076549 ,  0.00297476], dtype=float32), array([ 0.00675671,  0.00421953, -0.02537094, ...,  0.05659737,\n",
            "        0.00292048,  0.01626002], dtype=float32), array([ 0.01063868, -0.00358232, -0.02049694, ...,  0.04764785,\n",
            "       -0.01482998,  0.01452244], dtype=float32)]\n",
            "0.0053885444\n"
          ]
        }
      ],
      "source": [
        "# print the length and the first five image paths\n",
        "print(len(data))\n",
        "print(data[:5])\n",
        "print(data[0][0])"
      ]
    },
    {
      "cell_type": "code",
      "execution_count": 10,
      "metadata": {},
      "outputs": [
        {
          "data": {
            "text/plain": [
              "0.04791617393493652"
            ]
          },
          "execution_count": 10,
          "metadata": {},
          "output_type": "execute_result"
        }
      ],
      "source": [
        "\"\"\"\n",
        "for the 0th embedding file, the file path is: embeddings\\1.jpg.npy\n",
        "for the 1th embedding file, the file path is: embeddings\\10.jpg.npy\n",
        "for the 2th embedding file, the file path is: embeddings\\2.jpg.npy\n",
        "for the 3th embedding file, the file path is: embeddings\\3.jpg.npy\n",
        "for the 4th embedding file, the file path is: embeddings\\4.jpg.npy\n",
        "for the 5th embedding file, the file path is: embeddings\\5.jpg.npy\n",
        "for the 6th embedding file, the file path is: embeddings\\6.jpg.npy\n",
        "for the 7th embedding file, the file path is: embeddings\\6B3DDE40-36AF-9188-C9B7-B1C5412074A6.png.npy\n",
        "for the 8th embedding file, the file path is: embeddings\\7.jpg.npy\n",
        "for the 9th embedding file, the file path is: embeddings\\7827B31E-6816-5106-00DB-0D2BF344981C.png.npy\n",
        "for the 10th embedding file, the file path is: embeddings\\7968FD2F-8910-05F3-9AEC-A38A1B607EA8.png.npy\n",
        "for the 11th embedding file, the file path is: embeddings\\8.jpg.npy\n",
        "for the 12th embedding file, the file path is: embeddings\\9.jpg.npy\n",
        "\"\"\""
      ]
    },
    {
      "cell_type": "code",
      "execution_count": 25,
      "metadata": {
        "colab": {
          "base_uri": "https://localhost:8080/"
        },
        "id": "tfQc5nxXu87n",
        "outputId": "07ed8110-3c1e-4c2e-f3c6-3d1c8cdf533e"
      },
      "outputs": [
        {
          "name": "stdout",
          "output_type": "stream",
          "text": [
            "0.8943735957145691\n"
          ]
        }
      ],
      "source": [
        "from scipy.spatial.distance import cosine\n",
        "\n",
        "#Marilyn Monroe painting similarities (only different in colors)\n",
        "\n",
        "#similarity between 2.jepg and 10.jepg of MM\n",
        "similarity = 1 - cosine(data[12], data[1])\n",
        "print(similarity)"
      ]
    },
    {
      "cell_type": "code",
      "execution_count": 12,
      "metadata": {
        "colab": {
          "base_uri": "https://localhost:8080/"
        },
        "id": "oISq5h78IFI8",
        "outputId": "8dfb970e-e438-4223-847b-7150b52aa691"
      },
      "outputs": [
        {
          "name": "stdout",
          "output_type": "stream",
          "text": [
            "0.38667768239974976\n",
            "0.31720593571662903\n",
            "0.34613728523254395\n"
          ]
        }
      ],
      "source": [
        "#similarity between angelina jolie and 10.jepg of Marilyn Monroe\n",
        "similarity_A_10 = 1 - cosine(data[0], data[10])\n",
        "print(similarity_A_10)\n",
        "\n",
        "#similarity between the cartoonized woman and 10.jepg of Marilyn Monroe\n",
        "similarity_W_10 = 1 - cosine(data[6], data[10])\n",
        "print(similarity_W_10)\n",
        "\n",
        "#similarity between a mushroom and 10.jepg of Marilyn Monroe\n",
        "similarity_m_10 = 1 - cosine(data[12], data[10])\n",
        "print(similarity_m_10)"
      ]
    }
  ],
  "metadata": {
    "accelerator": "GPU",
    "colab": {
      "gpuType": "T4",
      "include_colab_link": true,
      "provenance": []
    },
    "kernelspec": {
      "display_name": "Python 3",
      "name": "python3"
    },
    "language_info": {
      "codemirror_mode": {
        "name": "ipython",
        "version": 3
      },
      "file_extension": ".py",
      "mimetype": "text/x-python",
      "name": "python",
      "nbconvert_exporter": "python",
      "pygments_lexer": "ipython3",
      "version": "3.9.12"
    }
  },
  "nbformat": 4,
  "nbformat_minor": 0
}
